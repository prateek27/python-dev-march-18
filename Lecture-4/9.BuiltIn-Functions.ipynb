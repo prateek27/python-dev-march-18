{
 "cells": [
  {
   "cell_type": "markdown",
   "metadata": {},
   "source": [
    "# ***<center>Important built-in functions</center>***\n",
    "<img src=http://s2.quickmeme.com/img/2d/2ddc7d5b4e7d6ee47bfd5b33acf3a1201b49877a4163d5f49ee5ba05685ccaae.jpg height=400 width=400>"
   ]
  },
  {
   "cell_type": "markdown",
   "metadata": {},
   "source": [
    "## 1. sort\n",
    "\n",
    "<img src=http://s2.quickmeme.com/img/96/963e77d9824553104fd63cb3cbcd81867a61672d89482bc7a492aaa8f6935449.jpg height=400 width=400>\n",
    "\n",
    "- In place sorting: __iterable__.sort()\n",
    "    \n",
    "    \n",
    "- Return a sorted iterable: sorted(__iterable__)\n",
    "\n",
    "\n",
    "- Two optional arguments: **key** and **reverse**.\n",
    "    - ***key***: specifies a **function of one argument** that is used to extract a **comparison key** from each list element\n",
    "    - ***reverse***: A boolean value. If set to True, then the list elements are sorted as if each comparison were reversed."
   ]
  },
  {
   "cell_type": "code",
   "execution_count": 1,
   "metadata": {},
   "outputs": [],
   "source": [
    "l = [5,4,3,2,1]"
   ]
  },
  {
   "cell_type": "code",
   "execution_count": 2,
   "metadata": {},
   "outputs": [],
   "source": [
    "k = sorted(l)"
   ]
  },
  {
   "cell_type": "code",
   "execution_count": 3,
   "metadata": {},
   "outputs": [
    {
     "data": {
      "text/plain": [
       "[1, 2, 3, 4, 5]"
      ]
     },
     "execution_count": 3,
     "metadata": {},
     "output_type": "execute_result"
    }
   ],
   "source": [
    "k"
   ]
  },
  {
   "cell_type": "code",
   "execution_count": 4,
   "metadata": {},
   "outputs": [],
   "source": [
    "l.sort()"
   ]
  },
  {
   "cell_type": "code",
   "execution_count": 5,
   "metadata": {},
   "outputs": [
    {
     "data": {
      "text/plain": [
       "[1, 2, 3, 4, 5]"
      ]
     },
     "execution_count": 5,
     "metadata": {},
     "output_type": "execute_result"
    }
   ],
   "source": [
    "l"
   ]
  },
  {
   "cell_type": "code",
   "execution_count": 6,
   "metadata": {},
   "outputs": [],
   "source": [
    "l = [(1,2), (3,1), (1,4), (2,3)]"
   ]
  },
  {
   "cell_type": "code",
   "execution_count": 7,
   "metadata": {},
   "outputs": [
    {
     "data": {
      "text/plain": [
       "[(1, 2), (1, 4), (2, 3), (3, 1)]"
      ]
     },
     "execution_count": 7,
     "metadata": {},
     "output_type": "execute_result"
    }
   ],
   "source": [
    "sorted(l)"
   ]
  },
  {
   "cell_type": "code",
   "execution_count": 8,
   "metadata": {},
   "outputs": [
    {
     "data": {
      "text/plain": [
       "[(3, 1), (2, 3), (1, 4), (1, 2)]"
      ]
     },
     "execution_count": 8,
     "metadata": {},
     "output_type": "execute_result"
    }
   ],
   "source": [
    "sorted(l, reverse=True)"
   ]
  },
  {
   "cell_type": "code",
   "execution_count": 9,
   "metadata": {},
   "outputs": [
    {
     "data": {
      "text/plain": [
       "[(1, 4), (1, 2), (2, 3), (3, 1)]"
      ]
     },
     "execution_count": 9,
     "metadata": {},
     "output_type": "execute_result"
    }
   ],
   "source": [
    "sorted(l, key = lambda x:(x[0],-x[1]))"
   ]
  },
  {
   "cell_type": "markdown",
   "metadata": {},
   "source": [
    "## 2. enumerate\n",
    "\n",
    "```python\n",
    "enumerate(iterable)\n",
    "```\n",
    "\n",
    "Returns a tuple containing a count (from start which defaults to 0) and the values obtained from iterating over the iterable."
   ]
  },
  {
   "cell_type": "code",
   "execution_count": 27,
   "metadata": {},
   "outputs": [],
   "source": [
    "l= [0,1,3,4]"
   ]
  },
  {
   "cell_type": "code",
   "execution_count": 11,
   "metadata": {},
   "outputs": [
    {
     "name": "stdout",
     "output_type": "stream",
     "text": [
      "0\n",
      "1\n"
     ]
    }
   ],
   "source": [
    "for i in range(len(l)):\n",
    "    if l[i] == i:\n",
    "        print(l[i])"
   ]
  },
  {
   "cell_type": "code",
   "execution_count": 31,
   "metadata": {},
   "outputs": [
    {
     "name": "stdout",
     "output_type": "stream",
     "text": [
      "0\n",
      "1\n"
     ]
    }
   ],
   "source": [
    "for idx, ele in enumerate(l):\n",
    "    if idx == ele:\n",
    "        print(ele)"
   ]
  },
  {
   "cell_type": "code",
   "execution_count": 13,
   "metadata": {},
   "outputs": [
    {
     "data": {
      "text/plain": [
       "[(0, 0), (1, 1), (2, 3), (3, 4)]"
      ]
     },
     "execution_count": 13,
     "metadata": {},
     "output_type": "execute_result"
    }
   ],
   "source": [
    "list(enumerate(l))"
   ]
  },
  {
   "cell_type": "code",
   "execution_count": 18,
   "metadata": {},
   "outputs": [],
   "source": [
    "l = (1,2,3)"
   ]
  },
  {
   "cell_type": "code",
   "execution_count": 16,
   "metadata": {},
   "outputs": [
    {
     "data": {
      "text/plain": [
       "1"
      ]
     },
     "execution_count": 16,
     "metadata": {},
     "output_type": "execute_result"
    }
   ],
   "source": [
    "a"
   ]
  },
  {
   "cell_type": "code",
   "execution_count": 17,
   "metadata": {},
   "outputs": [
    {
     "data": {
      "text/plain": [
       "2"
      ]
     },
     "execution_count": 17,
     "metadata": {},
     "output_type": "execute_result"
    }
   ],
   "source": [
    "b"
   ]
  },
  {
   "cell_type": "code",
   "execution_count": 20,
   "metadata": {},
   "outputs": [],
   "source": [
    "a = 1\n",
    "b = 2"
   ]
  },
  {
   "cell_type": "code",
   "execution_count": 21,
   "metadata": {},
   "outputs": [],
   "source": [
    "a,b = b,a"
   ]
  },
  {
   "cell_type": "code",
   "execution_count": 22,
   "metadata": {},
   "outputs": [
    {
     "data": {
      "text/plain": [
       "2"
      ]
     },
     "execution_count": 22,
     "metadata": {},
     "output_type": "execute_result"
    }
   ],
   "source": [
    "a"
   ]
  },
  {
   "cell_type": "code",
   "execution_count": 23,
   "metadata": {},
   "outputs": [
    {
     "data": {
      "text/plain": [
       "1"
      ]
     },
     "execution_count": 23,
     "metadata": {},
     "output_type": "execute_result"
    }
   ],
   "source": [
    "b"
   ]
  },
  {
   "cell_type": "code",
   "execution_count": 24,
   "metadata": {},
   "outputs": [],
   "source": [
    "l = [(1,2), (2,3), (3,2)]"
   ]
  },
  {
   "cell_type": "code",
   "execution_count": 25,
   "metadata": {},
   "outputs": [
    {
     "name": "stdout",
     "output_type": "stream",
     "text": [
      "1 2\n",
      "2 3\n",
      "3 2\n"
     ]
    }
   ],
   "source": [
    "for x,y in l:\n",
    "    print(x,y)"
   ]
  },
  {
   "cell_type": "markdown",
   "metadata": {},
   "source": [
    "## 3. zip\n",
    "\n",
    "Make an iterator that aggregates elements from each of the iterables.\n",
    "\n",
    "![](http://s2.quickmeme.com/img/56/568cf8f60a23bea949f5bc0143607934e7fd8a7e5d0f5c44b86fc12c1ffb8185.jpg)"
   ]
  },
  {
   "cell_type": "code",
   "execution_count": 32,
   "metadata": {},
   "outputs": [],
   "source": [
    "names = ['Ram', 'Shyam', 'Ravi', 'Mohan']\n",
    "scores = [3,4,5,2]"
   ]
  },
  {
   "cell_type": "code",
   "execution_count": 34,
   "metadata": {},
   "outputs": [
    {
     "data": {
      "text/plain": [
       "[('Ram', 3), ('Shyam', 4), ('Ravi', 5), ('Mohan', 2)]"
      ]
     },
     "execution_count": 34,
     "metadata": {},
     "output_type": "execute_result"
    }
   ],
   "source": [
    "list(zip(names, scores))"
   ]
  },
  {
   "cell_type": "markdown",
   "metadata": {},
   "source": [
    "## 4. all and any\n",
    "\n",
    "![](https://i.imgflip.com/21cqld.jpg)\n",
    "\n",
    "- all\n",
    "\n",
    "Returns True if all elements of the iterable are true.\n",
    "\n",
    "- any\n",
    "\n",
    "Return True if any element of the iterable is true."
   ]
  },
  {
   "cell_type": "code",
   "execution_count": 38,
   "metadata": {},
   "outputs": [],
   "source": [
    "l = []"
   ]
  },
  {
   "cell_type": "code",
   "execution_count": 39,
   "metadata": {},
   "outputs": [
    {
     "data": {
      "text/plain": [
       "True"
      ]
     },
     "execution_count": 39,
     "metadata": {},
     "output_type": "execute_result"
    }
   ],
   "source": [
    "all(l)"
   ]
  },
  {
   "cell_type": "code",
   "execution_count": 37,
   "metadata": {},
   "outputs": [
    {
     "data": {
      "text/plain": [
       "True"
      ]
     },
     "execution_count": 37,
     "metadata": {},
     "output_type": "execute_result"
    }
   ],
   "source": [
    "any(l)"
   ]
  },
  {
   "cell_type": "markdown",
   "metadata": {},
   "source": [
    "## 5. globals and locals\n",
    "\n",
    "- **globals**\n",
    "\n",
    "    Return a dictionary representing the current global symbol table. \n",
    "    \n",
    "- **locals**\n",
    "\n",
    "    Return a dictionary representing the current local symbol table."
   ]
  },
  {
   "cell_type": "code",
   "execution_count": 40,
   "metadata": {},
   "outputs": [
    {
     "data": {
      "text/plain": [
       "{'In': ['',\n",
       "  'l = [5,4,3,2,1]',\n",
       "  'k = sorted(l)',\n",
       "  'k',\n",
       "  'l.sort()',\n",
       "  'l',\n",
       "  'l = [(1,2), (3,1), (1,4), (2,3)]',\n",
       "  'sorted(l)',\n",
       "  'sorted(l, reverse=True)',\n",
       "  'sorted(l, key = lambda x:(x[0],-x[1]))',\n",
       "  'l= [0,1,3,4]',\n",
       "  'for i in range(len(l)):\\n    if l[i] == i:\\n        print(l[i])',\n",
       "  'enumerate(l)',\n",
       "  'list(enumerate(l))',\n",
       "  'l = (1,2)',\n",
       "  'a,b = l',\n",
       "  'a',\n",
       "  'b',\n",
       "  'l = (1,2,3)',\n",
       "  'a,b = l',\n",
       "  'a = 1\\nb = 2',\n",
       "  'a,b = b,a',\n",
       "  'a',\n",
       "  'b',\n",
       "  'l = [(1,2), (2,3), (3,2)]',\n",
       "  'for x,y in l:\\n    print(x,y)',\n",
       "  'for idx, ele in enumerate(l):\\n    if idx == ele:\\n        print(ele)',\n",
       "  'l= [0,1,3,4]',\n",
       "  'for idx, ele in enumerate(l):\\n    if idx == ele:\\n        print(ele)',\n",
       "  'for idx, ele in enumerate(l)[-1]:\\n    if idx == ele:\\n        print(ele)',\n",
       "  'for idx, ele in list(enumerate(l))[-1]:\\n    if idx == ele:\\n        print(ele)',\n",
       "  'for idx, ele in enumerate(l):\\n    if idx == ele:\\n        print(ele)',\n",
       "  \"names = ['Ram', 'Shyam', 'Ravi', 'Mohan']\\nscores = [3,4,5,2]\",\n",
       "  'zip(names, scores)',\n",
       "  'list(zip(names, scores))',\n",
       "  'l = [True, False, True]',\n",
       "  'all(l)',\n",
       "  'any(l)',\n",
       "  'l = []',\n",
       "  'all(l)',\n",
       "  'globals()'],\n",
       " 'Out': {3: [1, 2, 3, 4, 5],\n",
       "  5: [1, 2, 3, 4, 5],\n",
       "  7: [(1, 2), (1, 4), (2, 3), (3, 1)],\n",
       "  8: [(3, 1), (2, 3), (1, 4), (1, 2)],\n",
       "  9: [(1, 4), (1, 2), (2, 3), (3, 1)],\n",
       "  12: <enumerate at 0x7f8fac0c5a68>,\n",
       "  13: [(0, 0), (1, 1), (2, 3), (3, 4)],\n",
       "  16: 1,\n",
       "  17: 2,\n",
       "  22: 2,\n",
       "  23: 1,\n",
       "  33: <zip at 0x7f8fa57c21c8>,\n",
       "  34: [('Ram', 3), ('Shyam', 4), ('Ravi', 5), ('Mohan', 2)],\n",
       "  36: False,\n",
       "  37: True,\n",
       "  39: True},\n",
       " '_': True,\n",
       " '_12': <enumerate at 0x7f8fac0c5a68>,\n",
       " '_13': [(0, 0), (1, 1), (2, 3), (3, 4)],\n",
       " '_16': 1,\n",
       " '_17': 2,\n",
       " '_22': 2,\n",
       " '_23': 1,\n",
       " '_3': [1, 2, 3, 4, 5],\n",
       " '_33': <zip at 0x7f8fa57c21c8>,\n",
       " '_34': [('Ram', 3), ('Shyam', 4), ('Ravi', 5), ('Mohan', 2)],\n",
       " '_36': False,\n",
       " '_37': True,\n",
       " '_39': True,\n",
       " '_5': [1, 2, 3, 4, 5],\n",
       " '_7': [(1, 2), (1, 4), (2, 3), (3, 1)],\n",
       " '_8': [(3, 1), (2, 3), (1, 4), (1, 2)],\n",
       " '_9': [(1, 4), (1, 2), (2, 3), (3, 1)],\n",
       " '__': True,\n",
       " '___': False,\n",
       " '__builtin__': <module 'builtins' (built-in)>,\n",
       " '__builtins__': <module 'builtins' (built-in)>,\n",
       " '__doc__': 'Automatically created module for IPython interactive environment',\n",
       " '__loader__': None,\n",
       " '__name__': '__main__',\n",
       " '__package__': None,\n",
       " '__spec__': None,\n",
       " '_dh': ['/home/nikhil/Dropbox/my_workspace/study_material&references/PythonCourse/Basics-of-Python'],\n",
       " '_i': 'all(l)',\n",
       " '_i1': 'l = [5,4,3,2,1]',\n",
       " '_i10': 'l= [0,1,3,4]',\n",
       " '_i11': 'for i in range(len(l)):\\n    if l[i] == i:\\n        print(l[i])',\n",
       " '_i12': 'enumerate(l)',\n",
       " '_i13': 'list(enumerate(l))',\n",
       " '_i14': 'l = (1,2)',\n",
       " '_i15': 'a,b = l',\n",
       " '_i16': 'a',\n",
       " '_i17': 'b',\n",
       " '_i18': 'l = (1,2,3)',\n",
       " '_i19': 'a,b = l',\n",
       " '_i2': 'k = sorted(l)',\n",
       " '_i20': 'a = 1\\nb = 2',\n",
       " '_i21': 'a,b = b,a',\n",
       " '_i22': 'a',\n",
       " '_i23': 'b',\n",
       " '_i24': 'l = [(1,2), (2,3), (3,2)]',\n",
       " '_i25': 'for x,y in l:\\n    print(x,y)',\n",
       " '_i26': 'for idx, ele in enumerate(l):\\n    if idx == ele:\\n        print(ele)',\n",
       " '_i27': 'l= [0,1,3,4]',\n",
       " '_i28': 'for idx, ele in enumerate(l):\\n    if idx == ele:\\n        print(ele)',\n",
       " '_i29': 'for idx, ele in enumerate(l)[-1]:\\n    if idx == ele:\\n        print(ele)',\n",
       " '_i3': 'k',\n",
       " '_i30': 'for idx, ele in list(enumerate(l))[-1]:\\n    if idx == ele:\\n        print(ele)',\n",
       " '_i31': 'for idx, ele in enumerate(l):\\n    if idx == ele:\\n        print(ele)',\n",
       " '_i32': \"names = ['Ram', 'Shyam', 'Ravi', 'Mohan']\\nscores = [3,4,5,2]\",\n",
       " '_i33': 'zip(names, scores)',\n",
       " '_i34': 'list(zip(names, scores))',\n",
       " '_i35': 'l = [True, False, True]',\n",
       " '_i36': 'all(l)',\n",
       " '_i37': 'any(l)',\n",
       " '_i38': 'l = []',\n",
       " '_i39': 'all(l)',\n",
       " '_i4': 'l.sort()',\n",
       " '_i40': 'globals()',\n",
       " '_i5': 'l',\n",
       " '_i6': 'l = [(1,2), (3,1), (1,4), (2,3)]',\n",
       " '_i7': 'sorted(l)',\n",
       " '_i8': 'sorted(l, reverse=True)',\n",
       " '_i9': 'sorted(l, key = lambda x:(x[0],-x[1]))',\n",
       " '_ih': ['',\n",
       "  'l = [5,4,3,2,1]',\n",
       "  'k = sorted(l)',\n",
       "  'k',\n",
       "  'l.sort()',\n",
       "  'l',\n",
       "  'l = [(1,2), (3,1), (1,4), (2,3)]',\n",
       "  'sorted(l)',\n",
       "  'sorted(l, reverse=True)',\n",
       "  'sorted(l, key = lambda x:(x[0],-x[1]))',\n",
       "  'l= [0,1,3,4]',\n",
       "  'for i in range(len(l)):\\n    if l[i] == i:\\n        print(l[i])',\n",
       "  'enumerate(l)',\n",
       "  'list(enumerate(l))',\n",
       "  'l = (1,2)',\n",
       "  'a,b = l',\n",
       "  'a',\n",
       "  'b',\n",
       "  'l = (1,2,3)',\n",
       "  'a,b = l',\n",
       "  'a = 1\\nb = 2',\n",
       "  'a,b = b,a',\n",
       "  'a',\n",
       "  'b',\n",
       "  'l = [(1,2), (2,3), (3,2)]',\n",
       "  'for x,y in l:\\n    print(x,y)',\n",
       "  'for idx, ele in enumerate(l):\\n    if idx == ele:\\n        print(ele)',\n",
       "  'l= [0,1,3,4]',\n",
       "  'for idx, ele in enumerate(l):\\n    if idx == ele:\\n        print(ele)',\n",
       "  'for idx, ele in enumerate(l)[-1]:\\n    if idx == ele:\\n        print(ele)',\n",
       "  'for idx, ele in list(enumerate(l))[-1]:\\n    if idx == ele:\\n        print(ele)',\n",
       "  'for idx, ele in enumerate(l):\\n    if idx == ele:\\n        print(ele)',\n",
       "  \"names = ['Ram', 'Shyam', 'Ravi', 'Mohan']\\nscores = [3,4,5,2]\",\n",
       "  'zip(names, scores)',\n",
       "  'list(zip(names, scores))',\n",
       "  'l = [True, False, True]',\n",
       "  'all(l)',\n",
       "  'any(l)',\n",
       "  'l = []',\n",
       "  'all(l)',\n",
       "  'globals()'],\n",
       " '_ii': 'l = []',\n",
       " '_iii': 'any(l)',\n",
       " '_oh': {3: [1, 2, 3, 4, 5],\n",
       "  5: [1, 2, 3, 4, 5],\n",
       "  7: [(1, 2), (1, 4), (2, 3), (3, 1)],\n",
       "  8: [(3, 1), (2, 3), (1, 4), (1, 2)],\n",
       "  9: [(1, 4), (1, 2), (2, 3), (3, 1)],\n",
       "  12: <enumerate at 0x7f8fac0c5a68>,\n",
       "  13: [(0, 0), (1, 1), (2, 3), (3, 4)],\n",
       "  16: 1,\n",
       "  17: 2,\n",
       "  22: 2,\n",
       "  23: 1,\n",
       "  33: <zip at 0x7f8fa57c21c8>,\n",
       "  34: [('Ram', 3), ('Shyam', 4), ('Ravi', 5), ('Mohan', 2)],\n",
       "  36: False,\n",
       "  37: True,\n",
       "  39: True},\n",
       " 'a': 2,\n",
       " 'b': 1,\n",
       " 'ele': 4,\n",
       " 'exit': <IPython.core.autocall.ZMQExitAutocall at 0x7f8fad989ef0>,\n",
       " 'get_ipython': <bound method InteractiveShell.get_ipython of <ipykernel.zmqshell.ZMQInteractiveShell object at 0x7f8fadbbfe48>>,\n",
       " 'i': 3,\n",
       " 'idx': 3,\n",
       " 'k': [1, 2, 3, 4, 5],\n",
       " 'l': [],\n",
       " 'names': ['Ram', 'Shyam', 'Ravi', 'Mohan'],\n",
       " 'quit': <IPython.core.autocall.ZMQExitAutocall at 0x7f8fad989ef0>,\n",
       " 'scores': [3, 4, 5, 2],\n",
       " 'x': 3,\n",
       " 'y': 2}"
      ]
     },
     "execution_count": 40,
     "metadata": {},
     "output_type": "execute_result"
    }
   ],
   "source": [
    "globals()"
   ]
  },
  {
   "cell_type": "code",
   "execution_count": 41,
   "metadata": {},
   "outputs": [],
   "source": [
    "def myfunc(a,b):\n",
    "    c=a+b\n",
    "    print(locals())\n",
    "    return c"
   ]
  },
  {
   "cell_type": "code",
   "execution_count": 42,
   "metadata": {},
   "outputs": [
    {
     "name": "stdout",
     "output_type": "stream",
     "text": [
      "{'c': 3, 'b': 2, 'a': 1}\n"
     ]
    },
    {
     "data": {
      "text/plain": [
       "3"
      ]
     },
     "execution_count": 42,
     "metadata": {},
     "output_type": "execute_result"
    }
   ],
   "source": [
    "myfunc(1,2)"
   ]
  },
  {
   "cell_type": "markdown",
   "metadata": {},
   "source": [
    "## 6. eval\n",
    "\n",
    "```python\n",
    "eval(expression, globals=None, locals=None)\n",
    "```\n",
    "\n",
    "The expression argument is parsed and evaluated as a Python expression using the globals and locals dictionaries as global and local namespace."
   ]
  },
  {
   "cell_type": "code",
   "execution_count": 48,
   "metadata": {},
   "outputs": [
    {
     "name": "stdout",
     "output_type": "stream",
     "text": [
      "hello\n"
     ]
    }
   ],
   "source": [
    "eval(\"print('hello')\")"
   ]
  },
  {
   "cell_type": "markdown",
   "metadata": {},
   "source": [
    "## Other built-in functions can be found [here](https://docs.python.org/3/library/functions.html)"
   ]
  },
  {
   "cell_type": "code",
   "execution_count": 67,
   "metadata": {},
   "outputs": [
    {
     "name": "stdout",
     "output_type": "stream",
     "text": [
      "1 0\n",
      "division by zero\n"
     ]
    }
   ],
   "source": [
    "try:\n",
    "    a,b = list(map(int, input().split()))\n",
    "    print(a/b)\n",
    "    print(1 + 'a')\n",
    "except Exception as e:\n",
    "    print(e)"
   ]
  }
 ],
 "metadata": {
  "kernelspec": {
   "display_name": "Python 3",
   "language": "python",
   "name": "python3"
  },
  "language_info": {
   "codemirror_mode": {
    "name": "ipython",
    "version": 3
   },
   "file_extension": ".py",
   "mimetype": "text/x-python",
   "name": "python",
   "nbconvert_exporter": "python",
   "pygments_lexer": "ipython3",
   "version": "3.6.3"
  }
 },
 "nbformat": 4,
 "nbformat_minor": 2
}
